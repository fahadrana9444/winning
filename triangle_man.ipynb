{
  "nbformat": 4,
  "nbformat_minor": 0,
  "metadata": {
    "colab": {
      "provenance": [],
      "authorship_tag": "ABX9TyNNgYs2E8W0OK/7Ub+YroBV",
      "include_colab_link": true
    },
    "kernelspec": {
      "name": "python3",
      "display_name": "Python 3"
    },
    "language_info": {
      "name": "python"
    }
  },
  "cells": [
    {
      "cell_type": "markdown",
      "metadata": {
        "id": "view-in-github",
        "colab_type": "text"
      },
      "source": [
        "<a href=\"https://colab.research.google.com/github/microprediction/winning/blob/main/triangle_man.ipynb\" target=\"_parent\"><img src=\"https://colab.research.google.com/assets/colab-badge.svg\" alt=\"Open In Colab\"/></a>"
      ]
    },
    {
      "cell_type": "code",
      "execution_count": null,
      "metadata": {
        "id": "M70jjOCay5JG"
      },
      "outputs": [],
      "source": [
        "!pip install winning"
      ]
    },
    {
      "cell_type": "markdown",
      "source": [
        "## A map from the simplex to cube\n",
        "This notebook investigates the use of the so-called ability transform to create bijections from the simplex to the cube. These maps are computationally tractible up to 100,000 dimensions. Here we try to visualize a very low dimensioncal map. "
      ],
      "metadata": {
        "id": "5kj-XozMy8bU"
      }
    },
    {
      "cell_type": "code",
      "source": [
        "from winning.std_calibration import std_ability_implied_state_prices, std_state_price_implied_ability\n",
        "from scipy.stats import norm\n",
        "from typing import List\n",
        "\n",
        "    \n",
        "def cube_to_simplex(u:List[float]) -> List[float]: \n",
        "    \"\"\"\n",
        "       :param  u is a point on the interior of the hyper-cube (0,1)^n \n",
        "       :returns  a point p in (0,1)^{n+1} with sum(p)=1 \n",
        "     \n",
        "    \"\"\"\n",
        "    a = [0] + [ -norm.ppf(ui) for ui in u ]\n",
        "    p = std_ability_implied_state_prices(a)\n",
        "    return p \n",
        "\n",
        "\n",
        "def simplex_to_cube(p:List[float]):\n",
        "    \"\"\" The inverse map \n",
        "    \n",
        "         :param    p in [0,1]^{n+1}  with entries summing to unity \n",
        "         :returns  (0,1)^n \n",
        "    \n",
        "    \"\"\"\n",
        "    x_mean_zero = std_state_price_implied_ability(p)\n",
        "    offset = x_mean_zero[0]\n",
        "    a =  [ xi-offset for xi in x_mean_zero ]\n",
        "    return [ norm.cdf(ai) for ai in a[1:] ]\n",
        "    "
      ],
      "metadata": {
        "id": "3hTh9JyFzLF2"
      },
      "execution_count": 2,
      "outputs": []
    },
    {
      "cell_type": "markdown",
      "source": [
        "## Examples"
      ],
      "metadata": {
        "id": "qpJSV81v39mn"
      }
    },
    {
      "cell_type": "code",
      "source": [
        "simplex_to_cube([0.25,0.25,0.25,0.25])"
      ],
      "metadata": {
        "colab": {
          "base_uri": "https://localhost:8080/"
        },
        "id": "d0eRu_Cm3-y-",
        "outputId": "e90a36cd-6535-4d88-d8de-7c07a1bc425d"
      },
      "execution_count": 3,
      "outputs": [
        {
          "output_type": "execute_result",
          "data": {
            "text/plain": [
              "[0.5, 0.5, 0.5]"
            ]
          },
          "metadata": {},
          "execution_count": 3
        }
      ]
    },
    {
      "cell_type": "code",
      "source": [
        "simplex_to_cube([0.35,0.25,0.25,0.15])"
      ],
      "metadata": {
        "colab": {
          "base_uri": "https://localhost:8080/"
        },
        "id": "NGQDz7mM4Llp",
        "outputId": "830910d3-b00d-4e94-959c-d98fde5e7a97"
      },
      "execution_count": 10,
      "outputs": [
        {
          "output_type": "execute_result",
          "data": {
            "text/plain": [
              "[0.6002788374851822, 0.6002788374851822, 0.7288015507586241]"
            ]
          },
          "metadata": {},
          "execution_count": 10
        }
      ]
    },
    {
      "cell_type": "markdown",
      "source": [
        "### Corners"
      ],
      "metadata": {
        "id": "1ivpAFyX4c3A"
      }
    },
    {
      "cell_type": "code",
      "source": [
        "simplex_to_cube([0.98,0.01,0.01]),simplex_to_cube([0.01,0.98,0.01]),simplex_to_cube([0.01,0.01,0.98])"
      ],
      "metadata": {
        "colab": {
          "base_uri": "https://localhost:8080/"
        },
        "id": "6rjVbwVo4YYx",
        "outputId": "a03c4419-6d61-4f0a-ce4a-934b1256af19"
      },
      "execution_count": 12,
      "outputs": [
        {
          "output_type": "execute_result",
          "data": {
            "text/plain": [
              "([0.9994399113937293, 0.9994399113937293],\n",
              " [0.000560088606270627, 0.5],\n",
              " [0.5, 0.0005600886062706243])"
            ]
          },
          "metadata": {},
          "execution_count": 12
        }
      ]
    },
    {
      "cell_type": "code",
      "source": [
        "cube_to_simplex([0.0001,0.0001]),cube_to_simplex([0.9999,0.0001]),cube_to_simplex([0.9999,0.9999]),cube_to_simplex([0.9999,0.0001])"
      ],
      "metadata": {
        "colab": {
          "base_uri": "https://localhost:8080/"
        },
        "id": "fVexYkDn41cQ",
        "outputId": "3c8d5372-a9df-4cff-9f22-f9facee65044"
      },
      "execution_count": 14,
      "outputs": [
        {
          "output_type": "execute_result",
          "data": {
            "text/plain": [
              "([0.991796977822986, 0.004097490983014038, 0.004097490983014038],\n",
              " [0.0042985798038551815, 0.9830667839032847, 4.026707310234546e-08],\n",
              " [0.00040156074649629997, 0.5001746590742873, 0.5001746590742873],\n",
              " [0.0042985798038551815, 0.9830667839032847, 4.026707310234546e-08])"
            ]
          },
          "metadata": {},
          "execution_count": 14
        }
      ]
    },
    {
      "cell_type": "code",
      "source": [],
      "metadata": {
        "id": "AbQg0I565Kyd"
      },
      "execution_count": null,
      "outputs": []
    },
    {
      "cell_type": "markdown",
      "source": [
        "### Traveling around the triangle\n",
        "We create concentric triangles in the simplex and plot the images on the cube. "
      ],
      "metadata": {
        "id": "RH3RCDnc5MyD"
      }
    },
    {
      "cell_type": "code",
      "source": [
        "import numpy as np\n",
        "import matplotlib.pyplot as plt\n",
        "\n",
        "\n",
        "def combos(x,y):\n",
        "    lmbds = np.linspace(0,1,100)\n",
        "    return np.array([ (1-lmbd)*x+lmbd*y for lmbd in lmbds])\n",
        "\n",
        "\n",
        "def make_sides(eps):\n",
        "    corner1 = np.array([1,0,0])\n",
        "    corner2 = np.array([0,1,0])\n",
        "    corner3 = np.array([0,0,1])\n",
        "    middle = np.array([1/3.,1/3.,1/3.])\n",
        "    corner1eps = eps*middle + (1 - eps)*corner1\n",
        "    corner2eps = eps*middle + (1 - eps)*corner2\n",
        "    corner3eps = eps*middle + (1 - eps)*corner3\n",
        "    side12 = combos(corner1eps,corner2eps)\n",
        "    side23 = combos(corner2eps, corner3eps)\n",
        "    side31 = combos(corner3eps, corner1eps)\n",
        "    return [side12,side23,side31]\n",
        "\n",
        "\n",
        "def plot_on_cube(ts, ls, c):\n",
        "    x = [t[0] for t in ts]\n",
        "    y = [t[1] for t in ts]\n",
        "    plt.plot(x, y, ls + c)\n",
        "\n",
        "\n",
        "def plot_image(eps, ls):\n",
        "    sides = make_sides(eps)\n",
        "    for side, c in zip(sides, ['r', 'g', 'b']):\n",
        "        ts = [simplex_to_cube(s) for s in side]\n",
        "        plot_on_cube(ts=ts, ls=ls, c=c)\n",
        "\n",
        "\n",
        "def plot_concentric_on_cube():\n",
        "    for eps, ls in zip([0.1, 0.2, 0.3, 0.4, 0.5, 0.6, 0.7, 0.8, 0.9], ['-']*100):\n",
        "        plot_image(eps, ls)\n",
        "\n",
        "\n"
      ],
      "metadata": {
        "id": "wTjUH8wW5Oqu"
      },
      "execution_count": 23,
      "outputs": []
    },
    {
      "cell_type": "code",
      "source": [
        "plot_concentric_on_cube()"
      ],
      "metadata": {
        "id": "2S2-SUFLGD9m"
      },
      "execution_count": null,
      "outputs": []
    }
  ]
}